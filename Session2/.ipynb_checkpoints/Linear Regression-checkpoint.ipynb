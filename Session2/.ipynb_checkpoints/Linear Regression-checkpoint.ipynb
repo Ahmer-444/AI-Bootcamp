{
 "cells": [
  {
   "cell_type": "code",
   "execution_count": 9,
   "metadata": {},
   "outputs": [],
   "source": [
    "import pandas as pd\n",
    "import numpy as np\n",
    "import matplotlib.pyplot as plt   #Data visualisation libraries \n",
    "import seaborn as sns\n",
    "%matplotlib inline"
   ]
  },
  {
   "cell_type": "code",
   "execution_count": 11,
   "metadata": {},
   "outputs": [
    {
     "data": {
      "text/html": [
       "<div>\n",
       "<style scoped>\n",
       "    .dataframe tbody tr th:only-of-type {\n",
       "        vertical-align: middle;\n",
       "    }\n",
       "\n",
       "    .dataframe tbody tr th {\n",
       "        vertical-align: top;\n",
       "    }\n",
       "\n",
       "    .dataframe thead th {\n",
       "        text-align: right;\n",
       "    }\n",
       "</style>\n",
       "<table border=\"1\" class=\"dataframe\">\n",
       "  <thead>\n",
       "    <tr style=\"text-align: right;\">\n",
       "      <th></th>\n",
       "      <th>Avg. Area Income</th>\n",
       "      <th>Avg. Area House Age</th>\n",
       "      <th>Avg. Area Number of Rooms</th>\n",
       "      <th>Avg. Area Number of Bedrooms</th>\n",
       "      <th>Area Population</th>\n",
       "      <th>Price</th>\n",
       "      <th>Address</th>\n",
       "    </tr>\n",
       "  </thead>\n",
       "  <tbody>\n",
       "    <tr>\n",
       "      <th>0</th>\n",
       "      <td>79545.458574</td>\n",
       "      <td>5.682861</td>\n",
       "      <td>7.009188</td>\n",
       "      <td>4.09</td>\n",
       "      <td>23086.800503</td>\n",
       "      <td>1.059034e+06</td>\n",
       "      <td>208 Michael Ferry Apt. 674\\nLaurabury, NE 3701...</td>\n",
       "    </tr>\n",
       "    <tr>\n",
       "      <th>1</th>\n",
       "      <td>79248.642455</td>\n",
       "      <td>6.002900</td>\n",
       "      <td>6.730821</td>\n",
       "      <td>3.09</td>\n",
       "      <td>40173.072174</td>\n",
       "      <td>1.505891e+06</td>\n",
       "      <td>188 Johnson Views Suite 079\\nLake Kathleen, CA...</td>\n",
       "    </tr>\n",
       "    <tr>\n",
       "      <th>2</th>\n",
       "      <td>61287.067179</td>\n",
       "      <td>5.865890</td>\n",
       "      <td>8.512727</td>\n",
       "      <td>5.13</td>\n",
       "      <td>36882.159400</td>\n",
       "      <td>1.058988e+06</td>\n",
       "      <td>9127 Elizabeth Stravenue\\nDanieltown, WI 06482...</td>\n",
       "    </tr>\n",
       "    <tr>\n",
       "      <th>3</th>\n",
       "      <td>63345.240046</td>\n",
       "      <td>7.188236</td>\n",
       "      <td>5.586729</td>\n",
       "      <td>3.26</td>\n",
       "      <td>34310.242831</td>\n",
       "      <td>1.260617e+06</td>\n",
       "      <td>USS Barnett\\nFPO AP 44820</td>\n",
       "    </tr>\n",
       "    <tr>\n",
       "      <th>4</th>\n",
       "      <td>59982.197226</td>\n",
       "      <td>5.040555</td>\n",
       "      <td>7.839388</td>\n",
       "      <td>4.23</td>\n",
       "      <td>26354.109472</td>\n",
       "      <td>6.309435e+05</td>\n",
       "      <td>USNS Raymond\\nFPO AE 09386</td>\n",
       "    </tr>\n",
       "  </tbody>\n",
       "</table>\n",
       "</div>"
      ],
      "text/plain": [
       "   Avg. Area Income  Avg. Area House Age  Avg. Area Number of Rooms  \\\n",
       "0      79545.458574             5.682861                   7.009188   \n",
       "1      79248.642455             6.002900                   6.730821   \n",
       "2      61287.067179             5.865890                   8.512727   \n",
       "3      63345.240046             7.188236                   5.586729   \n",
       "4      59982.197226             5.040555                   7.839388   \n",
       "\n",
       "   Avg. Area Number of Bedrooms  Area Population         Price  \\\n",
       "0                          4.09     23086.800503  1.059034e+06   \n",
       "1                          3.09     40173.072174  1.505891e+06   \n",
       "2                          5.13     36882.159400  1.058988e+06   \n",
       "3                          3.26     34310.242831  1.260617e+06   \n",
       "4                          4.23     26354.109472  6.309435e+05   \n",
       "\n",
       "                                             Address  \n",
       "0  208 Michael Ferry Apt. 674\\nLaurabury, NE 3701...  \n",
       "1  188 Johnson Views Suite 079\\nLake Kathleen, CA...  \n",
       "2  9127 Elizabeth Stravenue\\nDanieltown, WI 06482...  \n",
       "3                          USS Barnett\\nFPO AP 44820  \n",
       "4                         USNS Raymond\\nFPO AE 09386  "
      ]
     },
     "execution_count": 11,
     "metadata": {},
     "output_type": "execute_result"
    }
   ],
   "source": [
    "USAhousing = pd.read_csv('USA_Housing.csv')\n",
    "USAhousing.head()"
   ]
  },
  {
   "cell_type": "code",
   "execution_count": 15,
   "metadata": {},
   "outputs": [
    {
     "name": "stdout",
     "output_type": "stream",
     "text": [
      "<class 'pandas.core.frame.DataFrame'>\n",
      "RangeIndex: 5000 entries, 0 to 4999\n",
      "Data columns (total 7 columns):\n",
      "Avg. Area Income                5000 non-null float64\n",
      "Avg. Area House Age             5000 non-null float64\n",
      "Avg. Area Number of Rooms       5000 non-null float64\n",
      "Avg. Area Number of Bedrooms    5000 non-null float64\n",
      "Area Population                 5000 non-null float64\n",
      "Price                           5000 non-null float64\n",
      "Address                         5000 non-null object\n",
      "dtypes: float64(6), object(1)\n",
      "memory usage: 273.5+ KB\n",
      "None\n",
      "       Avg. Area Income  Avg. Area House Age  Avg. Area Number of Rooms  \\\n",
      "count       5000.000000          5000.000000                5000.000000   \n",
      "mean       68583.108984             5.977222                   6.987792   \n",
      "std        10657.991214             0.991456                   1.005833   \n",
      "min        17796.631190             2.644304                   3.236194   \n",
      "25%        61480.562388             5.322283                   6.299250   \n",
      "50%        68804.286404             5.970429                   7.002902   \n",
      "75%        75783.338666             6.650808                   7.665871   \n",
      "max       107701.748378             9.519088                  10.759588   \n",
      "\n",
      "       Avg. Area Number of Bedrooms  Area Population         Price  \n",
      "count                   5000.000000      5000.000000  5.000000e+03  \n",
      "mean                       3.981330     36163.516039  1.232073e+06  \n",
      "std                        1.234137      9925.650114  3.531176e+05  \n",
      "min                        2.000000       172.610686  1.593866e+04  \n",
      "25%                        3.140000     29403.928702  9.975771e+05  \n",
      "50%                        4.050000     36199.406689  1.232669e+06  \n",
      "75%                        4.490000     42861.290769  1.471210e+06  \n",
      "max                        6.500000     69621.713378  2.469066e+06  \n",
      "Index(['Avg. Area Income', 'Avg. Area House Age', 'Avg. Area Number of Rooms',\n",
      "       'Avg. Area Number of Bedrooms', 'Area Population', 'Price', 'Address'],\n",
      "      dtype='object')\n"
     ]
    }
   ],
   "source": [
    "print (USAhousing.info())\n",
    "print (USAhousing.describe())\n",
    "print (USAhousing.columns)"
   ]
  },
  {
   "cell_type": "code",
   "execution_count": 16,
   "metadata": {},
   "outputs": [
    {
     "data": {
      "text/plain": [
       "<matplotlib.axes._subplots.AxesSubplot at 0x7fb32d946438>"
      ]
     },
     "execution_count": 16,
     "metadata": {},
     "output_type": "execute_result"
    },
    {
     "data": {
      "image/png": "[encoded data removed]",
      "text/plain": [
       "<Figure size 432x288 with 1 Axes>"
      ]
     },
     "metadata": {
      "needs_background": "light"
     },
     "output_type": "display_data"
    }
   ],
   "source": [
    "sns.distplot(USAhousing['Price'])"
   ]
  },
  {
   "cell_type": "markdown",
   "metadata": {},
   "source": [
    "# Correlational Analysis"
   ]
  },
  {
   "cell_type": "code",
   "execution_count": 25,
   "metadata": {},
   "outputs": [
    {
     "data": {
      "text/html": [
       "<style  type=\"text/css\" >\n",
       "    #T_9ec3aa30_3e76_11e9_a6a4_ac72897a7c72row0_col0 {\n",
       "            background-color:  #023858;\n",
       "            color:  #f1f1f1;\n",
       "        }    #T_9ec3aa30_3e76_11e9_a6a4_ac72897a7c72row0_col1 {\n",
       "            background-color:  #fcf4fa;\n",
       "            color:  #000000;\n",
       "        }    #T_9ec3aa30_3e76_11e9_a6a4_ac72897a7c72row0_col2 {\n",
       "            background-color:  #fff7fb;\n",
       "            color:  #000000;\n",
       "        }    #T_9ec3aa30_3e76_11e9_a6a4_ac72897a7c72row0_col3 {\n",
       "            background-color:  #f9f2f8;\n",
       "            color:  #000000;\n",
       "        }    #T_9ec3aa30_3e76_11e9_a6a4_ac72897a7c72row0_col4 {\n",
       "            background-color:  #fff7fb;\n",
       "            color:  #000000;\n",
       "        }    #T_9ec3aa30_3e76_11e9_a6a4_ac72897a7c72row0_col5 {\n",
       "            background-color:  #549cc7;\n",
       "            color:  #000000;\n",
       "        }    #T_9ec3aa30_3e76_11e9_a6a4_ac72897a7c72row1_col0 {\n",
       "            background-color:  #fcf4fa;\n",
       "            color:  #000000;\n",
       "        }    #T_9ec3aa30_3e76_11e9_a6a4_ac72897a7c72row1_col1 {\n",
       "            background-color:  #023858;\n",
       "            color:  #f1f1f1;\n",
       "        }    #T_9ec3aa30_3e76_11e9_a6a4_ac72897a7c72row1_col2 {\n",
       "            background-color:  #fff7fb;\n",
       "            color:  #000000;\n",
       "        }    #T_9ec3aa30_3e76_11e9_a6a4_ac72897a7c72row1_col3 {\n",
       "            background-color:  #fbf3f9;\n",
       "            color:  #000000;\n",
       "        }    #T_9ec3aa30_3e76_11e9_a6a4_ac72897a7c72row1_col4 {\n",
       "            background-color:  #fff7fb;\n",
       "            color:  #000000;\n",
       "        }    #T_9ec3aa30_3e76_11e9_a6a4_ac72897a7c72row1_col5 {\n",
       "            background-color:  #b3c3de;\n",
       "            color:  #000000;\n",
       "        }    #T_9ec3aa30_3e76_11e9_a6a4_ac72897a7c72row2_col0 {\n",
       "            background-color:  #fef6fa;\n",
       "            color:  #000000;\n",
       "        }    #T_9ec3aa30_3e76_11e9_a6a4_ac72897a7c72row2_col1 {\n",
       "            background-color:  #fef6fa;\n",
       "            color:  #000000;\n",
       "        }    #T_9ec3aa30_3e76_11e9_a6a4_ac72897a7c72row2_col2 {\n",
       "            background-color:  #023858;\n",
       "            color:  #f1f1f1;\n",
       "        }    #T_9ec3aa30_3e76_11e9_a6a4_ac72897a7c72row2_col3 {\n",
       "            background-color:  #80aed2;\n",
       "            color:  #000000;\n",
       "        }    #T_9ec3aa30_3e76_11e9_a6a4_ac72897a7c72row2_col4 {\n",
       "            background-color:  #fcf4fa;\n",
       "            color:  #000000;\n",
       "        }    #T_9ec3aa30_3e76_11e9_a6a4_ac72897a7c72row2_col5 {\n",
       "            background-color:  #dad9ea;\n",
       "            color:  #000000;\n",
       "        }    #T_9ec3aa30_3e76_11e9_a6a4_ac72897a7c72row3_col0 {\n",
       "            background-color:  #f9f2f8;\n",
       "            color:  #000000;\n",
       "        }    #T_9ec3aa30_3e76_11e9_a6a4_ac72897a7c72row3_col1 {\n",
       "            background-color:  #fbf3f9;\n",
       "            color:  #000000;\n",
       "        }    #T_9ec3aa30_3e76_11e9_a6a4_ac72897a7c72row3_col2 {\n",
       "            background-color:  #81aed2;\n",
       "            color:  #000000;\n",
       "        }    #T_9ec3aa30_3e76_11e9_a6a4_ac72897a7c72row3_col3 {\n",
       "            background-color:  #023858;\n",
       "            color:  #f1f1f1;\n",
       "        }    #T_9ec3aa30_3e76_11e9_a6a4_ac72897a7c72row3_col4 {\n",
       "            background-color:  #fff7fb;\n",
       "            color:  #000000;\n",
       "        }    #T_9ec3aa30_3e76_11e9_a6a4_ac72897a7c72row3_col5 {\n",
       "            background-color:  #fff7fb;\n",
       "            color:  #000000;\n",
       "        }    #T_9ec3aa30_3e76_11e9_a6a4_ac72897a7c72row4_col0 {\n",
       "            background-color:  #fff7fb;\n",
       "            color:  #000000;\n",
       "        }    #T_9ec3aa30_3e76_11e9_a6a4_ac72897a7c72row4_col1 {\n",
       "            background-color:  #fff7fb;\n",
       "            color:  #000000;\n",
       "        }    #T_9ec3aa30_3e76_11e9_a6a4_ac72897a7c72row4_col2 {\n",
       "            background-color:  #fef6fa;\n",
       "            color:  #000000;\n",
       "        }    #T_9ec3aa30_3e76_11e9_a6a4_ac72897a7c72row4_col3 {\n",
       "            background-color:  #fff7fb;\n",
       "            color:  #000000;\n",
       "        }    #T_9ec3aa30_3e76_11e9_a6a4_ac72897a7c72row4_col4 {\n",
       "            background-color:  #023858;\n",
       "            color:  #f1f1f1;\n",
       "        }    #T_9ec3aa30_3e76_11e9_a6a4_ac72897a7c72row4_col5 {\n",
       "            background-color:  #c2cbe2;\n",
       "            color:  #000000;\n",
       "        }    #T_9ec3aa30_3e76_11e9_a6a4_ac72897a7c72row5_col0 {\n",
       "            background-color:  #2d8abd;\n",
       "            color:  #000000;\n",
       "        }    #T_9ec3aa30_3e76_11e9_a6a4_ac72897a7c72row5_col1 {\n",
       "            background-color:  #84b0d3;\n",
       "            color:  #000000;\n",
       "        }    #T_9ec3aa30_3e76_11e9_a6a4_ac72897a7c72row5_col2 {\n",
       "            background-color:  #b0c2de;\n",
       "            color:  #000000;\n",
       "        }    #T_9ec3aa30_3e76_11e9_a6a4_ac72897a7c72row5_col3 {\n",
       "            background-color:  #dfddec;\n",
       "            color:  #000000;\n",
       "        }    #T_9ec3aa30_3e76_11e9_a6a4_ac72897a7c72row5_col4 {\n",
       "            background-color:  #94b6d7;\n",
       "            color:  #000000;\n",
       "        }    #T_9ec3aa30_3e76_11e9_a6a4_ac72897a7c72row5_col5 {\n",
       "            background-color:  #023858;\n",
       "            color:  #f1f1f1;\n",
       "        }</style><table id=\"T_9ec3aa30_3e76_11e9_a6a4_ac72897a7c72\" ><thead>    <tr>        <th class=\"blank level0\" ></th>        <th class=\"col_heading level0 col0\" >Avg. Area Income</th>        <th class=\"col_heading level0 col1\" >Avg. Area House Age</th>        <th class=\"col_heading level0 col2\" >Avg. Area Number of Rooms</th>        <th class=\"col_heading level0 col3\" >Avg. Area Number of Bedrooms</th>        <th class=\"col_heading level0 col4\" >Area Population</th>        <th class=\"col_heading level0 col5\" >Price</th>    </tr></thead><tbody>\n",
       "                <tr>\n",
       "                        <th id=\"T_9ec3aa30_3e76_11e9_a6a4_ac72897a7c72level0_row0\" class=\"row_heading level0 row0\" >Avg. Area Income</th>\n",
       "                        <td id=\"T_9ec3aa30_3e76_11e9_a6a4_ac72897a7c72row0_col0\" class=\"data row0 col0\" >1</td>\n",
       "                        <td id=\"T_9ec3aa30_3e76_11e9_a6a4_ac72897a7c72row0_col1\" class=\"data row0 col1\" >-0</td>\n",
       "                        <td id=\"T_9ec3aa30_3e76_11e9_a6a4_ac72897a7c72row0_col2\" class=\"data row0 col2\" >-0.01</td>\n",
       "                        <td id=\"T_9ec3aa30_3e76_11e9_a6a4_ac72897a7c72row0_col3\" class=\"data row0 col3\" >0.02</td>\n",
       "                        <td id=\"T_9ec3aa30_3e76_11e9_a6a4_ac72897a7c72row0_col4\" class=\"data row0 col4\" >-0.02</td>\n",
       "                        <td id=\"T_9ec3aa30_3e76_11e9_a6a4_ac72897a7c72row0_col5\" class=\"data row0 col5\" >0.64</td>\n",
       "            </tr>\n",
       "            <tr>\n",
       "                        <th id=\"T_9ec3aa30_3e76_11e9_a6a4_ac72897a7c72level0_row1\" class=\"row_heading level0 row1\" >Avg. Area House Age</th>\n",
       "                        <td id=\"T_9ec3aa30_3e76_11e9_a6a4_ac72897a7c72row1_col0\" class=\"data row1 col0\" >-0</td>\n",
       "                        <td id=\"T_9ec3aa30_3e76_11e9_a6a4_ac72897a7c72row1_col1\" class=\"data row1 col1\" >1</td>\n",
       "                        <td id=\"T_9ec3aa30_3e76_11e9_a6a4_ac72897a7c72row1_col2\" class=\"data row1 col2\" >-0.01</td>\n",
       "                        <td id=\"T_9ec3aa30_3e76_11e9_a6a4_ac72897a7c72row1_col3\" class=\"data row1 col3\" >0.01</td>\n",
       "                        <td id=\"T_9ec3aa30_3e76_11e9_a6a4_ac72897a7c72row1_col4\" class=\"data row1 col4\" >-0.02</td>\n",
       "                        <td id=\"T_9ec3aa30_3e76_11e9_a6a4_ac72897a7c72row1_col5\" class=\"data row1 col5\" >0.45</td>\n",
       "            </tr>\n",
       "            <tr>\n",
       "                        <th id=\"T_9ec3aa30_3e76_11e9_a6a4_ac72897a7c72level0_row2\" class=\"row_heading level0 row2\" >Avg. Area Number of Rooms</th>\n",
       "                        <td id=\"T_9ec3aa30_3e76_11e9_a6a4_ac72897a7c72row2_col0\" class=\"data row2 col0\" >-0.01</td>\n",
       "                        <td id=\"T_9ec3aa30_3e76_11e9_a6a4_ac72897a7c72row2_col1\" class=\"data row2 col1\" >-0.01</td>\n",
       "                        <td id=\"T_9ec3aa30_3e76_11e9_a6a4_ac72897a7c72row2_col2\" class=\"data row2 col2\" >1</td>\n",
       "                        <td id=\"T_9ec3aa30_3e76_11e9_a6a4_ac72897a7c72row2_col3\" class=\"data row2 col3\" >0.46</td>\n",
       "                        <td id=\"T_9ec3aa30_3e76_11e9_a6a4_ac72897a7c72row2_col4\" class=\"data row2 col4\" >0</td>\n",
       "                        <td id=\"T_9ec3aa30_3e76_11e9_a6a4_ac72897a7c72row2_col5\" class=\"data row2 col5\" >0.34</td>\n",
       "            </tr>\n",
       "            <tr>\n",
       "                        <th id=\"T_9ec3aa30_3e76_11e9_a6a4_ac72897a7c72level0_row3\" class=\"row_heading level0 row3\" >Avg. Area Number of Bedrooms</th>\n",
       "                        <td id=\"T_9ec3aa30_3e76_11e9_a6a4_ac72897a7c72row3_col0\" class=\"data row3 col0\" >0.02</td>\n",
       "                        <td id=\"T_9ec3aa30_3e76_11e9_a6a4_ac72897a7c72row3_col1\" class=\"data row3 col1\" >0.01</td>\n",
       "                        <td id=\"T_9ec3aa30_3e76_11e9_a6a4_ac72897a7c72row3_col2\" class=\"data row3 col2\" >0.46</td>\n",
       "                        <td id=\"T_9ec3aa30_3e76_11e9_a6a4_ac72897a7c72row3_col3\" class=\"data row3 col3\" >1</td>\n",
       "                        <td id=\"T_9ec3aa30_3e76_11e9_a6a4_ac72897a7c72row3_col4\" class=\"data row3 col4\" >-0.02</td>\n",
       "                        <td id=\"T_9ec3aa30_3e76_11e9_a6a4_ac72897a7c72row3_col5\" class=\"data row3 col5\" >0.17</td>\n",
       "            </tr>\n",
       "            <tr>\n",
       "                        <th id=\"T_9ec3aa30_3e76_11e9_a6a4_ac72897a7c72level0_row4\" class=\"row_heading level0 row4\" >Area Population</th>\n",
       "                        <td id=\"T_9ec3aa30_3e76_11e9_a6a4_ac72897a7c72row4_col0\" class=\"data row4 col0\" >-0.02</td>\n",
       "                        <td id=\"T_9ec3aa30_3e76_11e9_a6a4_ac72897a7c72row4_col1\" class=\"data row4 col1\" >-0.02</td>\n",
       "                        <td id=\"T_9ec3aa30_3e76_11e9_a6a4_ac72897a7c72row4_col2\" class=\"data row4 col2\" >0</td>\n",
       "                        <td id=\"T_9ec3aa30_3e76_11e9_a6a4_ac72897a7c72row4_col3\" class=\"data row4 col3\" >-0.02</td>\n",
       "                        <td id=\"T_9ec3aa30_3e76_11e9_a6a4_ac72897a7c72row4_col4\" class=\"data row4 col4\" >1</td>\n",
       "                        <td id=\"T_9ec3aa30_3e76_11e9_a6a4_ac72897a7c72row4_col5\" class=\"data row4 col5\" >0.41</td>\n",
       "            </tr>\n",
       "            <tr>\n",
       "                        <th id=\"T_9ec3aa30_3e76_11e9_a6a4_ac72897a7c72level0_row5\" class=\"row_heading level0 row5\" >Price</th>\n",
       "                        <td id=\"T_9ec3aa30_3e76_11e9_a6a4_ac72897a7c72row5_col0\" class=\"data row5 col0\" >0.64</td>\n",
       "                        <td id=\"T_9ec3aa30_3e76_11e9_a6a4_ac72897a7c72row5_col1\" class=\"data row5 col1\" >0.45</td>\n",
       "                        <td id=\"T_9ec3aa30_3e76_11e9_a6a4_ac72897a7c72row5_col2\" class=\"data row5 col2\" >0.34</td>\n",
       "                        <td id=\"T_9ec3aa30_3e76_11e9_a6a4_ac72897a7c72row5_col3\" class=\"data row5 col3\" >0.17</td>\n",
       "                        <td id=\"T_9ec3aa30_3e76_11e9_a6a4_ac72897a7c72row5_col4\" class=\"data row5 col4\" >0.41</td>\n",
       "                        <td id=\"T_9ec3aa30_3e76_11e9_a6a4_ac72897a7c72row5_col5\" class=\"data row5 col5\" >1</td>\n",
       "            </tr>\n",
       "    </tbody></table>"
      ],
      "text/plain": [
       "<pandas.io.formats.style.Styler at 0x7fb32e2dacc0>"
      ]
     },
     "execution_count": 25,
     "metadata": {},
     "output_type": "execute_result"
    }
   ],
   "source": [
    "corr = USAhousing.corr()\n",
    "corr = corr.round(2)\n",
    "corr.style.background_gradient()\n",
    "# print (corr)"
   ]
  },
  {
   "cell_type": "code",
   "execution_count": 24,
   "metadata": {},
   "outputs": [
    {
     "data": {
      "text/plain": [
       "<matplotlib.axes._subplots.AxesSubplot at 0x7fb32dcdc940>"
      ]
     },
     "execution_count": 24,
     "metadata": {},
     "output_type": "execute_result"
    },
    {
     "data": {
      "image/png": "[encoded data removed]",
      "text/plain": [
       "<Figure size 432x288 with 2 Axes>"
      ]
     },
     "metadata": {
      "needs_background": "light"
     },
     "output_type": "display_data"
    }
   ],
   "source": [
    "# plot the heatmap\n",
    "sns.heatmap(corr, \n",
    "        xticklabels=corr.columns,\n",
    "        yticklabels=corr.columns)"
   ]
  },
  {
   "cell_type": "code",
   "execution_count": 44,
   "metadata": {},
   "outputs": [],
   "source": [
    "XX = USAhousing[['Avg. Area Income', 'Avg. Area House Age', 'Avg. Area Number of Rooms',\n",
    "               'Avg. Area Number of Bedrooms', 'Area Population']]\n",
    "\n",
    "X = USAhousing.loc[:, ~USAhousing.columns.isin(['Price', 'Address'])]\n",
    "\n",
    "y = USAhousing['Price']"
   ]
  },
  {
   "cell_type": "code",
   "execution_count": 47,
   "metadata": {},
   "outputs": [
    {
     "data": {
      "text/html": [
       "<div>\n",
       "<style scoped>\n",
       "    .dataframe tbody tr th:only-of-type {\n",
       "        vertical-align: middle;\n",
       "    }\n",
       "\n",
       "    .dataframe tbody tr th {\n",
       "        vertical-align: top;\n",
       "    }\n",
       "\n",
       "    .dataframe thead th {\n",
       "        text-align: right;\n",
       "    }\n",
       "</style>\n",
       "<table border=\"1\" class=\"dataframe\">\n",
       "  <thead>\n",
       "    <tr style=\"text-align: right;\">\n",
       "      <th></th>\n",
       "      <th>Avg. Area Income</th>\n",
       "      <th>Avg. Area House Age</th>\n",
       "      <th>Avg. Area Number of Rooms</th>\n",
       "      <th>Avg. Area Number of Bedrooms</th>\n",
       "      <th>Area Population</th>\n",
       "    </tr>\n",
       "  </thead>\n",
       "  <tbody>\n",
       "    <tr>\n",
       "      <th>0</th>\n",
       "      <td>79545.458574</td>\n",
       "      <td>5.682861</td>\n",
       "      <td>7.009188</td>\n",
       "      <td>4.09</td>\n",
       "      <td>23086.800503</td>\n",
       "    </tr>\n",
       "    <tr>\n",
       "      <th>1</th>\n",
       "      <td>79248.642455</td>\n",
       "      <td>6.002900</td>\n",
       "      <td>6.730821</td>\n",
       "      <td>3.09</td>\n",
       "      <td>40173.072174</td>\n",
       "    </tr>\n",
       "    <tr>\n",
       "      <th>2</th>\n",
       "      <td>61287.067179</td>\n",
       "      <td>5.865890</td>\n",
       "      <td>8.512727</td>\n",
       "      <td>5.13</td>\n",
       "      <td>36882.159400</td>\n",
       "    </tr>\n",
       "    <tr>\n",
       "      <th>3</th>\n",
       "      <td>63345.240046</td>\n",
       "      <td>7.188236</td>\n",
       "      <td>5.586729</td>\n",
       "      <td>3.26</td>\n",
       "      <td>34310.242831</td>\n",
       "    </tr>\n",
       "    <tr>\n",
       "      <th>4</th>\n",
       "      <td>59982.197226</td>\n",
       "      <td>5.040555</td>\n",
       "      <td>7.839388</td>\n",
       "      <td>4.23</td>\n",
       "      <td>26354.109472</td>\n",
       "    </tr>\n",
       "  </tbody>\n",
       "</table>\n",
       "</div>"
      ],
      "text/plain": [
       "   Avg. Area Income  Avg. Area House Age  Avg. Area Number of Rooms  \\\n",
       "0      79545.458574             5.682861                   7.009188   \n",
       "1      79248.642455             6.002900                   6.730821   \n",
       "2      61287.067179             5.865890                   8.512727   \n",
       "3      63345.240046             7.188236                   5.586729   \n",
       "4      59982.197226             5.040555                   7.839388   \n",
       "\n",
       "   Avg. Area Number of Bedrooms  Area Population  \n",
       "0                          4.09     23086.800503  \n",
       "1                          3.09     40173.072174  \n",
       "2                          5.13     36882.159400  \n",
       "3                          3.26     34310.242831  \n",
       "4                          4.23     26354.109472  "
      ]
     },
     "execution_count": 47,
     "metadata": {},
     "output_type": "execute_result"
    }
   ],
   "source": [
    "X.head()"
   ]
  },
  {
   "cell_type": "code",
   "execution_count": 48,
   "metadata": {},
   "outputs": [
    {
     "data": {
      "text/plain": [
       "0    1.059034e+06\n",
       "1    1.505891e+06\n",
       "2    1.058988e+06\n",
       "3    1.260617e+06\n",
       "4    6.309435e+05\n",
       "Name: Price, dtype: float64"
      ]
     },
     "execution_count": 48,
     "metadata": {},
     "output_type": "execute_result"
    }
   ],
   "source": [
    "y.head()"
   ]
  },
  {
   "cell_type": "code",
   "execution_count": 58,
   "metadata": {},
   "outputs": [],
   "source": [
    "from sklearn.model_selection import train_test_split\n",
    "X_train, X_test, y_train, y_test = train_test_split(X, y, test_size=0.4, random_state=101)"
   ]
  },
  {
   "cell_type": "code",
   "execution_count": 59,
   "metadata": {},
   "outputs": [
    {
     "data": {
      "text/plain": [
       "LinearRegression(copy_X=True, fit_intercept=True, n_jobs=None,\n",
       "         normalize=False)"
      ]
     },
     "execution_count": 59,
     "metadata": {},
     "output_type": "execute_result"
    }
   ],
   "source": [
    "from sklearn.linear_model import LinearRegression\n",
    "lm = LinearRegression()\n",
    "lm.fit(X_train,y_train)"
   ]
  },
  {
   "cell_type": "code",
   "execution_count": 60,
   "metadata": {},
   "outputs": [],
   "source": [
    "predictions = lm.predict(X_test)"
   ]
  },
  {
   "cell_type": "code",
   "execution_count": 61,
   "metadata": {},
   "outputs": [
    {
     "data": {
      "text/plain": [
       "<matplotlib.collections.PathCollection at 0x7fb32d8cdc50>"
      ]
     },
     "execution_count": 61,
     "metadata": {},
     "output_type": "execute_result"
    },
    {
     "data": {
      "image/png": "[encoded data removed]",
      "text/plain": [
       "<Figure size 432x288 with 1 Axes>"
      ]
     },
     "metadata": {
      "needs_background": "light"
     },
     "output_type": "display_data"
    }
   ],
   "source": [
    "plt.scatter(y_test,predictions)"
   ]
  },
  {
   "cell_type": "code",
   "execution_count": 55,
   "metadata": {},
   "outputs": [
    {
     "name": "stdout",
     "output_type": "stream",
     "text": [
      "Coefficients: \n",
      " [2.15282755e+01 1.64883282e+05 1.22368678e+05 2.23380186e+03\n",
      " 1.51504200e+01]\n",
      "Mean squared error: 10460958907.21\n",
      "Variance score: 0.92\n"
     ]
    }
   ],
   "source": [
    "from sklearn.metrics import mean_squared_error, r2_score\n",
    "# The coefficients\n",
    "print('Coefficients: \\n', lm.coef_)\n",
    "# The mean squared error\n",
    "print(\"Mean squared error: %.2f\"\n",
    "      % mean_squared_error(y_test, predictions))\n",
    "# Explained variance score: 1 is perfect prediction\n",
    "print('Variance score: %.2f' % r2_score(y_test, predictions))"
   ]
  },
  {
   "cell_type": "code",
   "execution_count": 64,
   "metadata": {},
   "outputs": [
    {
     "name": "stdout",
     "output_type": "stream",
     "text": [
      "91.7682400964924 %\n",
      "91.81223200568411 %\n"
     ]
    }
   ],
   "source": [
    "train_accuracy = lm.score(X_train,y_train)\n",
    "print('Train accuracy: ', train_accuracy*100,'%')\n",
    "test_accuracy = lm.score(X_test,y_test)\n",
    "print('Test accuracy: ', test_accuracy*100,'%')\n",
    "\n"
   ]
  },
  {
   "cell_type": "code",
   "execution_count": null,
   "metadata": {},
   "outputs": [],
   "source": []
  }
 ],
 "metadata": {
  "kernelspec": {
   "display_name": "ipy-jupyter-venv3",
   "language": "python",
   "name": "myipy_jupter_env3"
  },
  "language_info": {
   "codemirror_mode": {
    "name": "ipython",
    "version": 3
   },
   "file_extension": ".py",
   "mimetype": "text/x-python",
   "name": "python",
   "nbconvert_exporter": "python",
   "pygments_lexer": "ipython3",
   "version": "3.5.2"
  }
 },
 "nbformat": 4,
 "nbformat_minor": 2
}
